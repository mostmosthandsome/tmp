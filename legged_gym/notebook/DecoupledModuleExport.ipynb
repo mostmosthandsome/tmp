{
 "cells": [
  {
   "cell_type": "code",
   "id": "98eff42f",
   "metadata": {
    "code_folding": [
     0
    ],
    "scrolled": true,
    "ExecuteTime": {
     "end_time": "2024-10-28T08:39:42.444831Z",
     "start_time": "2024-10-28T08:39:39.860814Z"
    }
   },
   "source": [
    "# Import Modules\n",
    "import isaacgym\n",
    "from legged_gym import LEGGED_GYM_ROOT_DIR\n",
    "from legged_gym.envs import *\n",
    "from legged_gym.utils import  get_args, export_policy_as_jit, task_registry, Logger\n",
    "from legged_gym.utils.helpers import class_to_dict,get_load_path, PolicyExporter\n",
    "from isaacgym.torch_utils import *\n",
    "from rsl_rl.modules import ActorCritic, AsymActorCritic\n",
    "from ruamel.yaml import dump, RoundTripDumper\n",
    "from datetime import datetime\n",
    "import numpy as np\n",
    "import torch\n",
    "import copy\n",
    "import os\n",
    "import sys\n",
    "sys.argv = sys.argv[0:1]+[\"--task=gr1t2_leg\"]+[\"--sim_device=cuda:1\"]+[\"--rl_device=cuda:1\"]\n",
    "# sys.argv.append(\"--headless\")\n",
    "sys.argc = len(sys.argv)\n",
    "args = get_args()"
   ],
   "outputs": [
    {
     "name": "stdout",
     "output_type": "stream",
     "text": [
      "Importing module 'gym_38' (/home/willw/isaacgym/isaacgym/python/isaacgym/_bindings/linux-x86_64/gym_38.so)\n",
      "Setting GYM_USD_PLUG_INFO_PATH to /home/willw/isaacgym/isaacgym/python/isaacgym/_bindings/linux-x86_64/usd/plugInfo.json\n",
      "PyTorch version 2.0.1+cu117\n",
      "Device count 2\n",
      "/home/willw/isaacgym/isaacgym/python/isaacgym/_bindings/src/gymtorch\n"
     ]
    },
    {
     "name": "stderr",
     "output_type": "stream",
     "text": [
      "Using /home/willw/.cache/torch_extensions/py38_cu117 as PyTorch extensions root...\n",
      "Emitting ninja build file /home/willw/.cache/torch_extensions/py38_cu117/gymtorch/build.ninja...\n",
      "Building extension module gymtorch...\n",
      "Allowing ninja to set a default number of workers... (overridable by setting the environment variable MAX_JOBS=N)\n"
     ]
    },
    {
     "name": "stdout",
     "output_type": "stream",
     "text": [
      "ninja: no work to do.\n"
     ]
    },
    {
     "name": "stderr",
     "output_type": "stream",
     "text": [
      "Loading extension module gymtorch...\n"
     ]
    },
    {
     "name": "stdout",
     "output_type": "stream",
     "text": [
      "Warp 0.10.1 initialized:\n",
      "   CUDA Toolkit: 11.5, Driver: 12.2\n",
      "   Devices:\n",
      "     \"cpu\"    | x86_64\n",
      "     \"cuda:0\" | NVIDIA GeForce RTX 3090 (sm_86)\n",
      "     \"cuda:1\" | NVIDIA GeForce RTX 3090 (sm_86)\n",
      "   Kernel cache: /home/willw/.cache/warp/0.10.1\n"
     ]
    }
   ],
   "execution_count": 1
  },
  {
   "cell_type": "code",
   "id": "3b008f9a",
   "metadata": {
    "code_folding": [
     0
    ],
    "ExecuteTime": {
     "end_time": "2024-10-28T08:39:42.551200Z",
     "start_time": "2024-10-28T08:39:42.534150Z"
    }
   },
   "source": [
    "class DreamWaqInference(torch.nn.Module):\n",
    "    def __init__(self, prototype, state_dict=None):\n",
    "        super(DreamWaqInference, self).__init__()\n",
    "        proto_cpu = copy.deepcopy(prototype).cpu()\n",
    "        if hasattr(proto_cpu,\"fc_mu\"):\n",
    "            latent_dim = proto_cpu.fc_mu.out_features\n",
    "        else:\n",
    "            latent_dim = 0\n",
    "        for k,l in proto_cpu.est_layers.items():\n",
    "            latent_dim += l.out_features\n",
    "#         for mlp\n",
    "        self.ob_dims = prototype.actor[0].in_features - latent_dim\n",
    "        # for gru\n",
    "#         self.ob_dims = ppo_runner.alg.actor_critic.actor.rnn.weight_ih_l0.size()[1] - latent_dim\n",
    "        self.encoder_dims = prototype.encoder[0].in_features\n",
    "        self.encoder_components = [e for e in proto_cpu.encoder]\n",
    "        \n",
    "        self.encoder_components.append(torch.nn.Linear(self.encoder_components[-2].out_features, \n",
    "                                       latent_dim))\n",
    "        \n",
    "        self.actor = proto_cpu.actor.cpu()\n",
    "        print(\"self.actor:\", self.actor)\n",
    "        self.composite_encoder = torch.nn.Sequential(*self.encoder_components).cpu()\n",
    "        \n",
    "        if state_dict is not None:\n",
    "            encoder_params = {k.split(\".\",1)[-1]:d for k,d in state_dict.items() if k.startswith(\"encoder\")}\n",
    "            actor_params = {k.split(\".\",1)[-1]:d for k,d in state_dict.items() if k.startswith(\"actor\")}\n",
    "            num_layers = len(encoder_params)\n",
    "            \n",
    "            est_weights = []\n",
    "            est_bias = []\n",
    "            \n",
    "            for k in state_dict:\n",
    "                if k.startswith(\"est_layers.\"):\n",
    "                    if k.endswith(\".weight\"):\n",
    "                        est_weights.append(state_dict[k])\n",
    "                    elif k.endswith(\".bias\"):\n",
    "                        est_bias.append(state_dict[k])\n",
    "            if \"fc_mu.weight\" in state_dict.keys():\n",
    "                est_weights.append(state_dict[\"fc_mu.weight\"])\n",
    "                est_bias.append(state_dict[\"fc_mu.bias\"])\n",
    "            \n",
    "            encoder_params[f\"{num_layers}.weight\"] = torch.cat(est_weights, dim=0)\n",
    "            encoder_params[f\"{num_layers}.bias\"] = torch.cat(est_bias, dim=0)\n",
    "            \n",
    "            self.actor.load_state_dict(actor_params)\n",
    "            self.composite_encoder.load_state_dict(encoder_params)\n",
    "        \n",
    "    def get_policy_scripts(self):\n",
    "        obs = torch.rand(4, self.encoder_dims).float()\n",
    "        action = self.forward(obs)\n",
    "        actor_script = torch.jit.script(self.actor)\n",
    "        encoder_script = torch.jit.script(self.composite_encoder)\n",
    "        policy_in1_script = torch.jit.script(self)\n",
    "        return encoder_script, actor_script, policy_in1_script\n",
    "        \n",
    "    def forward(self, obs_h):\n",
    "        z = self.composite_encoder(obs_h)\n",
    "        obz = torch.cat([obs_h[..., -self.ob_dims:],z], dim=-1)\n",
    "        action = self.actor(obz)\n",
    "        return action"
   ],
   "outputs": [],
   "execution_count": 2
  },
  {
   "cell_type": "code",
   "id": "6570a6b4",
   "metadata": {
    "ExecuteTime": {
     "end_time": "2024-10-28T08:39:42.600026Z",
     "start_time": "2024-10-28T08:39:42.595029Z"
    }
   },
   "source": [
    "env_cfg, train_cfg = task_registry.get_cfgs(name=args.task)\n",
    "env_cfg.env.num_envs = min(env_cfg.env.num_envs, 4)\n",
    "train_cfg.runner.resume = True\n",
    "train_cfg.runner.load_run = \"241010_134454_lower_500Hz\"\n",
    "train_cfg.runner.checkpoint = -1\n",
    "\n",
    "env_cfg.terrain.curriculum = False\n",
    "env_cfg.terrain.mesh_type = 'plane' \n",
    "# env_cfg.terrain.mesh_type = 'trimesh' \n",
    "# env_cfg.terrain_proportions = [0.2, 0.2, 0.2, 0.2, 0.2]\n",
    "env_cfg.num_rows = 9  # number of terrain rows (levels)\n",
    "env_cfg.num_cols = 9  # number of terrain cols (types)\n",
    "env_cfg.noise.add_noise = False\n",
    "env_cfg.domain_rand.randomize_friction = False\n",
    "env_cfg.domain_rand.randomize_base_mass = False\n",
    "env_cfg.domain_rand.randomize_motor_strength = False\n",
    "env_cfg.domain_rand.randomize_Kp_factor = False\n",
    "env_cfg.domain_rand.randomize_Kd_factor = False\n",
    "env_cfg.domain_rand.push_robots = False\n",
    "env_cfg.domain_rand.randomize_lag_timesteps = False\n",
    "env_cfg.domain_rand.randomize_init_state = False"
   ],
   "outputs": [],
   "execution_count": 3
  },
  {
   "cell_type": "code",
   "id": "a25067cb",
   "metadata": {
    "ExecuteTime": {
     "end_time": "2024-10-28T08:39:42.648669Z",
     "start_time": "2024-10-28T08:39:42.642816Z"
    }
   },
   "source": [
    "env_cfg.noise.add_noise = True\n",
    "env_cfg.domain_rand.randomize_friction = True\n",
    "env_cfg.domain_rand.randomize_base_mass = True\n",
    "env_cfg.domain_rand.randomize_motor_strength = True\n",
    "env_cfg.domain_rand.randomize_Kp_factor = True\n",
    "env_cfg.domain_rand.randomize_Kd_factor = True\n",
    "# env_cfg.domain_rand.push_robots = True\n",
    "env_cfg.domain_rand.randomize_lag_timesteps = True\n",
    "env_cfg.domain_rand.randomize_init_state = True"
   ],
   "outputs": [],
   "execution_count": 4
  },
  {
   "cell_type": "code",
   "id": "5fb63c50",
   "metadata": {
    "ExecuteTime": {
     "end_time": "2024-10-28T08:39:48.745715Z",
     "start_time": "2024-10-28T08:39:42.697806Z"
    }
   },
   "source": [
    "env, _ = task_registry.make_env(name=args.task, args=args, env_cfg=env_cfg)\n",
    "for i in range(3):\n",
    "    _ = env.reset()"
   ],
   "outputs": [
    {
     "name": "stdout",
     "output_type": "stream",
     "text": [
      "Setting seed: 1730104782.4298208\n",
      "Not connected to PVD\n",
      "+++ Using GPU PhysX\n",
      "Physics Engine: PhysX\n",
      "Physics Device: cuda:1\n",
      "GPU Pipeline: enabled\n",
      "self.num_dof: 29 \tself.num_dofs: 29\n",
      "body_names: ['base_link', 'left_thigh_roll_link', 'left_thigh_yaw_link', 'left_thigh_pitch_link', 'left_shank_pitch_link', 'left_foot_pitch_link', 'left_foot_roll_link', 'right_thigh_roll_link', 'right_thigh_yaw_link', 'right_thigh_pitch_link', 'right_shank_pitch_link', 'right_foot_pitch_link', 'right_foot_roll_link', 'waist_yaw_link', 'waist_pitch_link', 'waist_roll_link', 'left_upper_arm_pitch_link', 'left_upper_arm_roll_link', 'left_upper_arm_yaw_link', 'left_lower_arm_pitch_link', 'left_hand_yaw_link', 'left_hand_roll_link', 'left_hand_pitch_link', 'right_upper_arm_pitch_link', 'right_upper_arm_roll_link', 'right_upper_arm_yaw_link', 'right_lower_arm_pitch_link', 'right_hand_yaw_link', 'right_hand_roll_link', 'right_hand_pitch_link']\n",
      "dof_names: ['left_hip_roll_joint', 'left_hip_yaw_joint', 'left_hip_pitch_joint', 'left_knee_pitch_joint', 'left_ankle_pitch_joint', 'left_ankle_roll_joint', 'right_hip_roll_joint', 'right_hip_yaw_joint', 'right_hip_pitch_joint', 'right_knee_pitch_joint', 'right_ankle_pitch_joint', 'right_ankle_roll_joint', 'waist_yaw_joint', 'waist_pitch_joint', 'waist_roll_joint', 'left_shoulder_pitch_joint', 'left_shoulder_roll_joint', 'left_shoulder_yaw_joint', 'left_elbow_pitch_joint', 'left_wrist_yaw_joint', 'left_wrist_roll_joint', 'left_wrist_pitch_joint', 'right_shoulder_pitch_joint', 'right_shoulder_roll_joint', 'right_shoulder_yaw_joint', 'right_elbow_pitch_joint', 'right_wrist_yaw_joint', 'right_wrist_roll_joint', 'right_wrist_pitch_joint']\n",
      "feet_names: ['left_foot_roll_link', 'right_foot_roll_link']\n",
      "feet_indices: tensor([ 6, 12], device='cuda:1')\n",
      "forbidden_link_names: ['left_thigh_roll_link', 'left_thigh_yaw_link', 'left_thigh_pitch_link', 'right_thigh_roll_link', 'right_thigh_yaw_link', 'right_thigh_pitch_link', 'base_link', 'waist_yaw_link', 'waist_pitch_link', 'waist_roll_link', 'left_upper_arm_pitch_link', 'left_upper_arm_roll_link', 'left_upper_arm_yaw_link', 'right_upper_arm_pitch_link', 'right_upper_arm_roll_link', 'right_upper_arm_yaw_link']\n",
      "forbidden_link_indices: tensor([ 1,  2,  3,  7,  8,  9,  0, 13, 14, 15, 16, 17, 18, 23, 24, 25],\n",
      "       device='cuda:1')\n"
     ]
    },
    {
     "name": "stderr",
     "output_type": "stream",
     "text": [
      "/home/willw/anaconda3/envs/isaac/lib/python3.8/site-packages/torch/functional.py:504: UserWarning: torch.meshgrid: in an upcoming release, it will be required to pass the indexing argument. (Triggered internally at ../aten/src/ATen/native/TensorShape.cpp:3483.)\n",
      "  return _VF.meshgrid(tensors, **kwargs)  # type: ignore[attr-defined]\n"
     ]
    },
    {
     "name": "stdout",
     "output_type": "stream",
     "text": [
      "reward_names: ['ang_Vel', 'bHgt', 'bRot', 'bTwist', 'cotr', 'eFrc', 'eVel', 'jVel', 'lin_Vel', 'smth']\n"
     ]
    }
   ],
   "execution_count": 5
  },
  {
   "cell_type": "code",
   "id": "76f85a73",
   "metadata": {
    "ExecuteTime": {
     "end_time": "2024-10-28T08:39:48.760327Z",
     "start_time": "2024-10-28T08:39:48.755780Z"
    }
   },
   "source": [
    "weight_path = get_load_path(f\"{LEGGED_GYM_ROOT_DIR}/logs/{train_cfg.runner.experiment_name}\", \n",
    "                         load_run=train_cfg.runner.load_run, \n",
    "                         checkpoint=train_cfg.runner.checkpoint)\n",
    "iter_num = weight_path.rsplit(\"_\")[-1][:-3]\n",
    "root_dir, exp_name = weight_path.rsplit(\"/\",2)[:2]\n",
    "save_dir = os.path.join(root_dir, 'exported', f'{exp_name}.{iter_num}')\n",
    "\n",
    "print(weight_path)\n",
    "print(save_dir)"
   ],
   "outputs": [
    {
     "name": "stdout",
     "output_type": "stream",
     "text": [
      "/home/willw/isaacgym/LeggedGym-317/logs/GR1T2_blind/241010_134454_lower_500Hz/model_10000.pt\n",
      "/home/willw/isaacgym/LeggedGym-317/logs/GR1T2_blind/exported/241010_134454_lower_500Hz.10000\n"
     ]
    }
   ],
   "execution_count": 6
  },
  {
   "cell_type": "code",
   "id": "a4b7d32f",
   "metadata": {
    "scrolled": true,
    "ExecuteTime": {
     "end_time": "2024-10-28T08:39:49.005399Z",
     "start_time": "2024-10-28T08:39:48.874828Z"
    }
   },
   "source": [
    "ppo_runner, train_cfg = task_registry.make_alg_runner(env=env, name=args.task, args=args, train_cfg=train_cfg)"
   ],
   "outputs": [
    {
     "name": "stdout",
     "output_type": "stream",
     "text": [
      "'train_cfg' provided -> Ignoring 'name=gr1t2_leg'\n",
      "{'activation': 'elu', 'actor_hidden_dims': [512, 256, 128], 'critic_hidden_dims': [1024, 512, 128], 'encoder_hidden_dims': [1024, 256, 64], 'estimation_dims': {'vel': 3, 'implicit': 16}, 'init_noise_std': 1.0, 'latent_dims': 19, 'rnn_hidden_size': 512, 'rnn_num_layers': 1, 'rnn_type': 'gru', 'token_channels': 64} <class 'dict'>\n",
      "AsymActorCritic.__init__ got unexpected args, ignoring: ['num_heightmap_obs', 'vision_in_channels', 'latent_dims', 'rnn_hidden_size', 'rnn_num_layers', 'rnn_type', 'token_channels']\n",
      "[AsymAC] Actor MLP: Sequential(\n",
      "  (0): Linear(in_features=68, out_features=512, bias=True)\n",
      "  (1): ELU(alpha=1.0)\n",
      "  (2): Linear(in_features=512, out_features=256, bias=True)\n",
      "  (3): ELU(alpha=1.0)\n",
      "  (4): Linear(in_features=256, out_features=128, bias=True)\n",
      "  (5): ELU(alpha=1.0)\n",
      "  (6): Linear(in_features=128, out_features=12, bias=True)\n",
      ")\n",
      "[AsymAC] Critic MLP: Sequential(\n",
      "  (0): Linear(in_features=80, out_features=1024, bias=True)\n",
      "  (1): ELU(alpha=1.0)\n",
      "  (2): Linear(in_features=1024, out_features=512, bias=True)\n",
      "  (3): ELU(alpha=1.0)\n",
      "  (4): Linear(in_features=512, out_features=128, bias=True)\n",
      "  (5): ELU(alpha=1.0)\n",
      "  (6): Linear(in_features=128, out_features=1, bias=True)\n",
      ")\n",
      "Loading model from: /home/willw/isaacgym/LeggedGym-317/logs/GR1T2_blind/241010_134454_lower_500Hz/model_10000.pt\n"
     ]
    }
   ],
   "execution_count": 7
  },
  {
   "cell_type": "code",
   "id": "99cc0be4",
   "metadata": {
    "scrolled": false,
    "ExecuteTime": {
     "end_time": "2024-10-28T08:39:49.195879Z",
     "start_time": "2024-10-28T08:39:49.085496Z"
    }
   },
   "source": [
    "ep = DreamWaqInference(ppo_runner.alg.actor_critic, \n",
    "                      state_dict=torch.load(weight_path, map_location=env.device)['model_state_dict'])\n",
    "en_sc, ac_sc, p1_sc = ep.get_policy_scripts()"
   ],
   "outputs": [
    {
     "name": "stdout",
     "output_type": "stream",
     "text": [
      "self.actor: Sequential(\n",
      "  (0): Linear(in_features=68, out_features=512, bias=True)\n",
      "  (1): ELU(alpha=1.0)\n",
      "  (2): Linear(in_features=512, out_features=256, bias=True)\n",
      "  (3): ELU(alpha=1.0)\n",
      "  (4): Linear(in_features=256, out_features=128, bias=True)\n",
      "  (5): ELU(alpha=1.0)\n",
      "  (6): Linear(in_features=128, out_features=12, bias=True)\n",
      ")\n"
     ]
    }
   ],
   "execution_count": 8
  },
  {
   "cell_type": "code",
   "id": "bd486117",
   "metadata": {
    "code_folding": [
     19
    ],
    "ExecuteTime": {
     "end_time": "2024-10-28T08:39:49.293083Z",
     "start_time": "2024-10-28T08:39:49.277845Z"
    }
   },
   "source": [
    "# Auxillary data preparation\n",
    "stds = env_cfg.normalization.obs_scales\n",
    "\n",
    "acMargin = np.array([[-10,10]] * env_cfg.env.num_actions)\n",
    "actMean = np.array([env_cfg.init_state.default_joint_angles[j] for j in env_cfg.normalization.whole_body_dof_order])\n",
    "\n",
    "actStd = np.array([env_cfg.control.action_scale[j.rsplit(\"_\",1)[0].split(\"_\",1)[1]] for j in env_cfg.normalization.action_dof_order])\n",
    "print(\"actStd:\",actStd)\n",
    "obsMean = np.zeros(env_cfg.env.num_observations)\n",
    "obsStd = np.array([1/stds.ang_vel]*3+\n",
    "                  [-1]*3+\n",
    "                  [1/stds.lin_vel]*2+\n",
    "                  [1/stds.ang_vel]+\n",
    "                  [1/stds.dof_pos]*len(env_cfg.normalization.obs_dof_order)+\n",
    "                  [1/stds.dof_vel]*len(env_cfg.normalization.obs_dof_order)+\n",
    "                  [1]*actStd.shape[0]+\n",
    "                  [1]*4)\n",
    "print(obsStd.shape)\n",
    "obsStd[9:21] = actStd\n",
    "\n",
    "whole_body_keys = []\n",
    "for j in env_cfg.normalization.whole_body_dof_order:\n",
    "    if j.startswith(\"left\") or j.startswith(\"right\") :\n",
    "        whole_body_keys.append(j.rsplit(\"_\",1)[0].split(\"_\",1)[1])\n",
    "    else:\n",
    "        whole_body_keys.append(j.rsplit(\"_\",1)[0])\n",
    "print(whole_body_keys)\n",
    "\n",
    "pGain = np.array([env_cfg.control.stiffness[j] for j in whole_body_keys])\n",
    "dGain = np.array([env_cfg.control.damping[j] for j in whole_body_keys])\n",
    "\n",
    "gait_dict = {\n",
    "    \"type\":env_cfg.gait.name,\n",
    "    \"frequency\":1.2,\n",
    "    \"state_type\": env_cfg.gait.state_type.lower(),\n",
    "    \"resample_rate\":0,\n",
    "    \"frequency_range\":{\"max\":2,\"min\":1},\n",
    "    \"stance_when_stop\":True \n",
    "}\n",
    "policy_dict = {\n",
    "    \"observation_dim\": env_cfg.env.num_observations,\n",
    "    \"action_dim\": env_cfg.env.num_actions,\n",
    "    \"encoding_dim\": train_cfg.policy.latent_dims,\n",
    "    \"history_length\": env_cfg.env.num_history_frames,\n",
    "    \"history_stride\": env_cfg.env.history_stride,\n",
    "    \"velocity_command_offset\": (0,0),\n",
    "    \"gait\": gait_dict\n",
    "}"
   ],
   "outputs": [
    {
     "name": "stdout",
     "output_type": "stream",
     "text": [
      "actStd: [0.2  0.15 0.5  0.7  0.3  0.2  0.2  0.15 0.5  0.7  0.3  0.2 ]\n",
      "(49,)\n",
      "['hip_roll', 'hip_yaw', 'hip_pitch', 'knee_pitch', 'ankle_pitch', 'ankle_roll', 'hip_roll', 'hip_yaw', 'hip_pitch', 'knee_pitch', 'ankle_pitch', 'ankle_roll', 'shoulder_pitch', 'shoulder_roll', 'shoulder_yaw', 'elbow_pitch', 'wrist_yaw', 'wrist_roll', 'wrist_pitch', 'shoulder_pitch', 'shoulder_roll', 'shoulder_yaw', 'elbow_pitch', 'wrist_yaw', 'wrist_roll', 'wrist_pitch', 'waist_yaw', 'waist_pitch', 'waist_roll']\n"
     ]
    }
   ],
   "execution_count": 9
  },
  {
   "metadata": {
    "ExecuteTime": {
     "end_time": "2024-10-28T08:39:49.358261Z",
     "start_time": "2024-10-28T08:39:49.350695Z"
    }
   },
   "cell_type": "code",
   "source": [
    "whole_body_keys = []\n",
    "for j in env_cfg.normalization.whole_body_dof_order:\n",
    "    if j.startswith(\"left\") or j.startswith(\"right\") :\n",
    "        whole_body_keys.append(j.rsplit(\"_\",1)[0].split(\"_\",1)[1])\n",
    "    else:\n",
    "        whole_body_keys.append(j.rsplit(\"_\",1)[0])\n",
    "print(whole_body_keys)"
   ],
   "id": "efdba6fdb54c8729",
   "outputs": [
    {
     "name": "stdout",
     "output_type": "stream",
     "text": [
      "['hip_roll', 'hip_yaw', 'hip_pitch', 'knee_pitch', 'ankle_pitch', 'ankle_roll', 'hip_roll', 'hip_yaw', 'hip_pitch', 'knee_pitch', 'ankle_pitch', 'ankle_roll', 'shoulder_pitch', 'shoulder_roll', 'shoulder_yaw', 'elbow_pitch', 'wrist_yaw', 'wrist_roll', 'wrist_pitch', 'shoulder_pitch', 'shoulder_roll', 'shoulder_yaw', 'elbow_pitch', 'wrist_yaw', 'wrist_roll', 'wrist_pitch', 'waist_yaw', 'waist_pitch', 'waist_roll']\n"
     ]
    }
   ],
   "execution_count": 10
  },
  {
   "cell_type": "code",
   "id": "6b4d2da0",
   "metadata": {
    "code_folding": [],
    "ExecuteTime": {
     "end_time": "2024-10-28T08:39:49.451773Z",
     "start_time": "2024-10-28T08:39:49.417124Z"
    }
   },
   "source": [
    "if os.path.exists(save_dir):\n",
    "    for f in os.listdir(save_dir):\n",
    "        if f.endswith(\".pt\"):\n",
    "            os.remove(f\"{save_dir}/{f}\")\n",
    "#     os.rmdir(save_dir)\n",
    "else:\n",
    "    os.makedirs(save_dir)\n",
    "en_sc.save(f\"{save_dir}/encoder.pt\")\n",
    "ac_sc.save(f\"{save_dir}/backbone.pt\")\n",
    "p1_sc.save(f\"{save_dir}/policy.pt\")"
   ],
   "outputs": [],
   "execution_count": 11
  },
  {
   "cell_type": "code",
   "id": "f2fb4f60",
   "metadata": {
    "ExecuteTime": {
     "end_time": "2024-10-28T08:39:49.482090Z",
     "start_time": "2024-10-28T08:39:49.470504Z"
    }
   },
   "source": [
    "np.savetxt(f\"{save_dir}/obMean.csv\", obsMean, delimiter=\",\", fmt=\"%.1f\")\n",
    "np.savetxt(f\"{save_dir}/obStd.csv\", obsStd, delimiter=\",\", fmt=\"%.2f\")\n",
    "np.savetxt(f\"{save_dir}/acMean.csv\", actMean, delimiter=\",\", fmt=\"%.3f\")\n",
    "np.savetxt(f\"{save_dir}/acMargin.csv\", acMargin, delimiter=\",\", fmt=\"%.1f\")\n",
    "np.savetxt(f\"{save_dir}/acStd.csv\", actStd, delimiter=\",\", fmt=\"%.2f\")\n",
    "np.savetxt(f\"{save_dir}/jointPgain.csv\", pGain, delimiter=\",\", fmt=\"%d\")\n",
    "np.savetxt(f\"{save_dir}/jointDgain.csv\", dGain, delimiter=\",\", fmt=\"%.1f\")\n",
    "with open(f\"{save_dir}/policy_config.yaml\",\"w\",encoding=\"UTF-8\") as f:\n",
    "    dump(policy_dict, f, RoundTripDumper)"
   ],
   "outputs": [],
   "execution_count": 12
  },
  {
   "cell_type": "code",
   "id": "03fecdbf",
   "metadata": {
    "ExecuteTime": {
     "end_time": "2024-10-28T08:39:49.570825Z",
     "start_time": "2024-10-28T08:39:49.522870Z"
    }
   },
   "source": [
    "enc_reload = torch.jit.load(f\"{save_dir}/encoder.pt\")\n",
    "bcb_reload = torch.jit.load(f\"{save_dir}/backbone.pt\")\n",
    "pol_reload = torch.jit.load(f\"{save_dir}/policy.pt\")"
   ],
   "outputs": [],
   "execution_count": 13
  },
  {
   "cell_type": "code",
   "id": "a162f1f5",
   "metadata": {
    "scrolled": true,
    "ExecuteTime": {
     "end_time": "2024-10-28T08:39:50.119961Z",
     "start_time": "2024-10-28T08:39:49.619001Z"
    }
   },
   "source": [
    "obs_test = torch.rand(48,450,env_cfg.env.num_observations_history).float()\n",
    "z_ld = enc_reload(obs_test)\n",
    "obz_ld = torch.cat([obs_test[..., -env_cfg.env.num_observations:],z_ld], dim=-1)\n",
    "action_ld = bcb_reload(obz_ld)"
   ],
   "outputs": [],
   "execution_count": 14
  },
  {
   "cell_type": "code",
   "id": "4d9d6ce4",
   "metadata": {
    "ExecuteTime": {
     "end_time": "2024-10-28T08:39:50.525017Z",
     "start_time": "2024-10-28T08:39:50.140086Z"
    }
   },
   "source": [
    "act_as_1 = ep(obs_test)\n",
    "\n",
    "z_sc = en_sc(obs_test)\n",
    "obz_sc = torch.cat([obs_test[..., -env_cfg.env.num_observations:],z_sc], dim=-1)\n",
    "action_sc = ac_sc(obz_sc)\n",
    "\n",
    "act_exp_as_1 = pol_reload(obs_test)\n",
    "obs_gpu = obs_test.to(ppo_runner.device)\n",
    "ppo_runner.alg.actor_critic.to(ppo_runner.device)\n",
    "act_train = ppo_runner.alg.actor_critic(obs_gpu[..., -env_cfg.env.num_observations:], obs_gpu)\n",
    "\n",
    "print(\"Train AC(VAE):   \", act_train.shape)\n",
    "print(\"Nb Export Class: \", act_as_1.shape)\n",
    "print(\"Nb jit Scripts:  \", action_sc.shape)\n",
    "print(\"Gym Export Class:\", act_exp_as_1.shape)\n",
    "print(\"Reloaded jit:    \", action_ld.shape)"
   ],
   "outputs": [
    {
     "name": "stdout",
     "output_type": "stream",
     "text": [
      "Train AC(VAE):    torch.Size([48, 450, 12])\n",
      "Nb Export Class:  torch.Size([48, 450, 12])\n",
      "Nb jit Scripts:   torch.Size([48, 450, 12])\n",
      "Gym Export Class: torch.Size([48, 450, 12])\n",
      "Reloaded jit:     torch.Size([48, 450, 12])\n"
     ]
    }
   ],
   "execution_count": 15
  },
  {
   "cell_type": "code",
   "id": "71c8ae61",
   "metadata": {
    "scrolled": true,
    "ExecuteTime": {
     "end_time": "2024-10-28T08:39:50.633090Z",
     "start_time": "2024-10-28T08:39:50.565731Z"
    }
   },
   "source": [
    "set_len = 1*int(env.max_episode_length)\n",
    "obs_np = np.zeros((set_len, env.num_envs, env.num_obs), dtype=float)\n",
    "act_np = np.zeros((set_len, env.num_envs, env.num_actions), dtype=float)\n",
    "vel_np = np.zeros((set_len, env.num_envs, 3), dtype=float)\n",
    "est_np = np.zeros((set_len, env.num_envs, 3), dtype=float)\n",
    "torq_np = np.zeros((set_len, env.num_envs, env.num_actions), dtype=float)\n",
    "rew_np = np.zeros((set_len, env.num_envs, len(env.reward_names)), dtype=float)\n",
    "rew_Sum = np.zeros((set_len, env.num_envs), dtype=float)\n",
    "gait_rwd_weight_np = np.zeros((set_len, env.num_envs, 4), dtype=float)\n",
    "cnct_force_np = np.zeros((set_len, env.num_envs,2), dtype=float)\n",
    "for i in range(1):\n",
    "    obs,_,obs_h,_ = env.reset()\n",
    "    print(i, obs)"
   ],
   "outputs": [
    {
     "name": "stdout",
     "output_type": "stream",
     "text": [
      "0 tensor([[ 8.7187e-02,  1.1705e-01,  5.8225e-02,  5.1190e-03, -4.4355e-02,\n",
      "         -1.0169e+00,  1.5428e+00,  3.3511e-01,  6.6667e-02,  3.0466e-02,\n",
      "          1.3646e-03,  2.3607e-01, -1.3866e-01, -6.9986e-02,  9.5497e-02,\n",
      "          1.1660e-01, -8.9132e-04,  9.4597e-02, -2.8511e-01, -8.1305e-02,\n",
      "          1.5674e-03,  3.2147e-02, -1.7684e-02, -2.0521e-01,  2.9670e-01,\n",
      "         -9.9945e-02, -5.1531e-01,  4.1567e-02, -8.8794e-02, -6.2850e-01,\n",
      "          8.7872e-01, -3.6736e-01, -7.8002e-02,  0.0000e+00,  0.0000e+00,\n",
      "          0.0000e+00,  0.0000e+00,  0.0000e+00,  0.0000e+00,  0.0000e+00,\n",
      "          0.0000e+00,  0.0000e+00,  0.0000e+00,  0.0000e+00,  0.0000e+00,\n",
      "         -1.0000e+00, -1.8370e-16, -1.0000e+00, -1.8370e-16],\n",
      "        [ 1.0417e-01, -1.9871e-01,  1.5763e-02,  3.3754e-02, -4.2867e-02,\n",
      "         -9.6821e-01,  2.5715e-01, -1.8232e-01, -6.6667e-02,  1.4535e-01,\n",
      "         -8.0964e-02, -3.4938e-01, -3.1961e-01,  7.3741e-01, -7.5924e-02,\n",
      "          3.9694e-02, -3.1744e-02, -1.0808e-01, -3.3357e-01,  4.6887e-01,\n",
      "         -2.4680e-01,  1.0585e-02, -4.5228e-02, -2.5022e-01,  6.4288e-01,\n",
      "          1.0646e-01,  2.3186e-02, -5.4074e-02, -5.8925e-02, -3.2562e-01,\n",
      "          8.0290e-01, -4.8974e-01,  4.9136e-03,  0.0000e+00,  0.0000e+00,\n",
      "          0.0000e+00,  0.0000e+00,  0.0000e+00,  0.0000e+00,  0.0000e+00,\n",
      "          0.0000e+00,  0.0000e+00,  0.0000e+00,  0.0000e+00,  0.0000e+00,\n",
      "         -1.0000e+00, -1.8370e-16, -1.0000e+00, -1.8370e-16],\n",
      "        [-3.9997e-02, -1.8787e-01, -6.7555e-02,  2.1129e-02,  4.9664e-02,\n",
      "         -1.0089e+00, -1.0453e+00,  3.9667e-01,  6.6667e-02,  1.2752e-01,\n",
      "         -1.0393e-01, -8.8843e-02, -1.4971e-02, -5.2728e-01, -1.1962e-01,\n",
      "          1.8310e-02,  7.4548e-02, -2.0052e-01,  4.4985e-01,  1.1370e-01,\n",
      "         -1.9175e-03,  4.0508e-02, -1.7846e-02, -2.5398e-01,  3.1154e-01,\n",
      "          8.7689e-01,  9.5961e-02,  5.5493e-03,  1.8375e-03,  2.5925e-01,\n",
      "         -4.8878e-01, -9.7215e-02, -5.5503e-01,  0.0000e+00,  0.0000e+00,\n",
      "          0.0000e+00,  0.0000e+00,  0.0000e+00,  0.0000e+00,  0.0000e+00,\n",
      "          0.0000e+00,  0.0000e+00,  0.0000e+00,  0.0000e+00,  0.0000e+00,\n",
      "         -1.0000e+00, -1.8370e-16, -1.0000e+00, -1.8370e-16],\n",
      "        [-5.5258e-02, -5.6426e-02,  4.6295e-02,  2.0700e-02, -3.3804e-02,\n",
      "         -9.7760e-01,  1.0478e+00,  1.5823e-02,  6.6667e-02, -9.3669e-02,\n",
      "         -3.1379e-02,  2.1604e-03,  2.6992e-02, -3.1219e-01, -3.8555e-02,\n",
      "          7.5327e-02,  2.9265e-02, -4.3223e-02, -6.6657e-02,  4.2899e-01,\n",
      "          2.9541e-02,  5.1716e-02, -4.1735e-02,  4.5789e-02, -2.5315e-02,\n",
      "          2.7762e-01,  2.3996e-01,  1.2721e-02, -3.2995e-02, -3.1415e-02,\n",
      "          8.8836e-02, -5.5272e-01,  1.4499e-01,  0.0000e+00,  0.0000e+00,\n",
      "          0.0000e+00,  0.0000e+00,  0.0000e+00,  0.0000e+00,  0.0000e+00,\n",
      "          0.0000e+00,  0.0000e+00,  0.0000e+00,  0.0000e+00,  0.0000e+00,\n",
      "         -1.0000e+00, -1.8370e-16, -1.0000e+00, -1.8370e-16]], device='cuda:1')\n"
     ]
    }
   ],
   "execution_count": 16
  },
  {
   "cell_type": "code",
   "id": "b4da2b6d",
   "metadata": {
    "ExecuteTime": {
     "end_time": "2024-10-28T08:39:50.862639Z",
     "start_time": "2024-10-28T08:39:50.687902Z"
    }
   },
   "source": [
    "for i in range(3):\n",
    "    _ = env.reset()"
   ],
   "outputs": [],
   "execution_count": 17
  },
  {
   "cell_type": "code",
   "id": "dbaafa0e",
   "metadata": {
    "ExecuteTime": {
     "end_time": "2024-10-28T08:41:45.393474Z",
     "start_time": "2024-10-28T08:39:50.911731Z"
    }
   },
   "source": [
    "for i in range(obs_np.shape[0]):\n",
    "    if i <1000:\n",
    "        env.cmd_w[:,0] = 0.6\n",
    "        env.cmd_w[:,1] = 0.0\n",
    "        env.commands[:,0] = 0.6\n",
    "        env.commands[:,1] = 0.0\n",
    "        env.commands[:,3] = 0.0\n",
    "    elif i >=1000:\n",
    "        env.cmd_w[:,0] = 0.\n",
    "        env.cmd_w[:,1] = 0.0\n",
    "        env.commands[:,3] = 0.0\n",
    "    \n",
    "#     forward = quat_apply(env.base_quat, env.forward_vec)\n",
    "#     heading = torch.atan2(forward[:, 1], forward[:, 0])  # yaw\n",
    "#     env.commands[:,3] = heading\n",
    "#     print(env.commands[:,:2])\n",
    "    \n",
    "    actions =ep(obs_h.cpu())\n",
    "#     latent = enc_reload(obs_h.cpu())\n",
    "    (obs, _, obs_h, est_dict,_), rews, dones, infos = env.step(actions.detach())\n",
    "    torque = env.get_torque()[:, env.action_dof_indices]\n",
    "    act_np[i] = actions.detach().cpu().numpy()\n",
    "    obs_np[i] = obs.detach().cpu().numpy()\n",
    "    vel_np[i] = env.body_vel_buf.detach().cpu().numpy() / env_cfg.normalization.obs_scales.lin_vel\n",
    "#     est_np[i] = latent[:,:3].detach().cpu().numpy()/ env_cfg.normalization.obs_scales.lin_vel\n",
    "    torq_np[i] = torque.detach().cpu().numpy()\n",
    "#     rew_Sum[i] = rews.detach().cpu().numpy()\n",
    "#     gait_rwd_weight_np[i] = np.hstack((env.force_reward_weight.detach().cpu().numpy(), \n",
    "#                                       env.speed_reward_weight.detach().cpu().numpy()))\n",
    "#     cnct_force_np[i] = torch.norm(env.contact_forces[:, env.feet_indices, :], dim=-1).detach().cpu().numpy()\n",
    "    \n",
    "#     for j in range(len(env.reward_names)):\n",
    "#         name = env.reward_names[j]\n",
    "#         rew_np[i,:,j] = env.step_reward[name].detach().cpu().numpy()\n",
    "#     if i%100==99:\n",
    "#         print(i, obs, \"\\n\", obs_h[0,:env_cfg.env.num_observations])"
   ],
   "outputs": [],
   "execution_count": 18
  },
  {
   "cell_type": "code",
   "id": "bae565a3",
   "metadata": {
    "ExecuteTime": {
     "end_time": "2024-10-28T08:41:45.481239Z",
     "start_time": "2024-10-28T08:41:45.462629Z"
    }
   },
   "source": [
    "import matplotlib.pyplot as plt\n",
    "%matplotlib inline"
   ],
   "outputs": [],
   "execution_count": 19
  },
  {
   "cell_type": "code",
   "id": "9a934b5f",
   "metadata": {
    "ExecuteTime": {
     "end_time": "2024-10-28T08:41:45.575131Z",
     "start_time": "2024-10-28T08:41:45.546474Z"
    }
   },
   "source": [
    "%matplotlib auto\n",
    "%matplotlib auto"
   ],
   "outputs": [
    {
     "name": "stdout",
     "output_type": "stream",
     "text": [
      "Using matplotlib backend: <object object at 0x7fd5fa337bb0>\n",
      "Using matplotlib backend: TkAgg\n"
     ]
    }
   ],
   "execution_count": 20
  },
  {
   "cell_type": "code",
   "id": "e0a7360f",
   "metadata": {
    "ExecuteTime": {
     "end_time": "2024-10-28T08:41:46.285332Z",
     "start_time": "2024-10-28T08:41:45.641698Z"
    }
   },
   "source": [
    "for i in range(env.num_envs):\n",
    "    plt.figure()\n",
    "    plt.plot(torq_np[:,i,10],alpha=0.5,label=\"AnkYL\")\n",
    "    plt.plot(torq_np[:,i,4],alpha=0.5,label=\"AnkYR\")\n",
    "    plt.legend()\n",
    "    plt.title(i)\n",
    "    plt.show()"
   ],
   "outputs": [],
   "execution_count": 21
  },
  {
   "cell_type": "code",
   "id": "8c067ec8",
   "metadata": {
    "ExecuteTime": {
     "end_time": "2024-10-28T08:41:46.364148Z",
     "start_time": "2024-10-28T08:41:46.359106Z"
    }
   },
   "source": [
    "for i in range(4):\n",
    "    print(\"RMS(L-R): \",\n",
    "         np.sqrt(np.mean(torq_np[:,i,4]**2)),\n",
    "         np.sqrt(np.mean(torq_np[:,i,10]**2)),)"
   ],
   "outputs": [
    {
     "name": "stdout",
     "output_type": "stream",
     "text": [
      "RMS(L-R):  7.10736513442322 5.872767717676261\n",
      "RMS(L-R):  7.63863057157576 8.94770130908595\n",
      "RMS(L-R):  7.8863375559136655 8.846982103066928\n",
      "RMS(L-R):  5.969689476104572 7.172066014213438\n"
     ]
    }
   ],
   "execution_count": 22
  },
  {
   "cell_type": "code",
   "id": "c851e945",
   "metadata": {
    "ExecuteTime": {
     "end_time": "2024-10-28T08:41:46.463625Z",
     "start_time": "2024-10-28T08:41:46.458176Z"
    }
   },
   "source": [
    "for i in range(4):\n",
    "    print(\"RMS(L-R): \",\n",
    "         np.mean(np.abs(torq_np[:,i,4]*obs_np[:,i,21+4])),\n",
    "         np.mean(np.abs(torq_np[:,i,10]*obs_np[:,i,21+9])))"
   ],
   "outputs": [
    {
     "name": "stdout",
     "output_type": "stream",
     "text": [
      "RMS(L-R):  0.6863777530795896 0.6790592905175996\n",
      "RMS(L-R):  0.5400379649035133 0.894078147941529\n",
      "RMS(L-R):  0.8634676771551973 1.3175033047006877\n",
      "RMS(L-R):  0.567492575988507 0.7849166371593824\n"
     ]
    }
   ],
   "execution_count": 23
  },
  {
   "cell_type": "code",
   "id": "76b0a0b4",
   "metadata": {
    "ExecuteTime": {
     "end_time": "2024-10-28T08:41:47.245179Z",
     "start_time": "2024-10-28T08:41:46.559548Z"
    }
   },
   "source": [
    "fig,axs = plt.subplots(4,3)\n",
    "for i in range(11):\n",
    "    ax = axs[i//3][i%3]\n",
    "    name = env.reward_names[i]\n",
    "    ax.plot(rew_np[:,0,i])\n",
    "    ax.set_title(name)\n",
    "# axs[3,2].plot(np.sum(rew_np[:,0], axis=-1))\n",
    "# axs[3,2].set_title(\"rew_Sum\")\n",
    "plt.figure()\n",
    "plt.plot(np.sum(rew_np[:,0], axis=-1))\n",
    "plt.title(\"rew_Sum\")\n",
    "plt.show()"
   ],
   "outputs": [
    {
     "ename": "IndexError",
     "evalue": "list index out of range",
     "output_type": "error",
     "traceback": [
      "\u001B[0;31m---------------------------------------------------------------------------\u001B[0m",
      "\u001B[0;31mIndexError\u001B[0m                                Traceback (most recent call last)",
      "Cell \u001B[0;32mIn[24], line 4\u001B[0m\n\u001B[1;32m      2\u001B[0m \u001B[38;5;28;01mfor\u001B[39;00m i \u001B[38;5;129;01min\u001B[39;00m \u001B[38;5;28mrange\u001B[39m(\u001B[38;5;241m11\u001B[39m):\n\u001B[1;32m      3\u001B[0m     ax \u001B[38;5;241m=\u001B[39m axs[i\u001B[38;5;241m/\u001B[39m\u001B[38;5;241m/\u001B[39m\u001B[38;5;241m3\u001B[39m][i\u001B[38;5;241m%\u001B[39m\u001B[38;5;241m3\u001B[39m]\n\u001B[0;32m----> 4\u001B[0m     name \u001B[38;5;241m=\u001B[39m \u001B[43menv\u001B[49m\u001B[38;5;241;43m.\u001B[39;49m\u001B[43mreward_names\u001B[49m\u001B[43m[\u001B[49m\u001B[43mi\u001B[49m\u001B[43m]\u001B[49m\n\u001B[1;32m      5\u001B[0m     ax\u001B[38;5;241m.\u001B[39mplot(rew_np[:,\u001B[38;5;241m0\u001B[39m,i])\n\u001B[1;32m      6\u001B[0m     ax\u001B[38;5;241m.\u001B[39mset_title(name)\n",
      "\u001B[0;31mIndexError\u001B[0m: list index out of range"
     ]
    }
   ],
   "execution_count": 24
  },
  {
   "cell_type": "code",
   "execution_count": null,
   "id": "a9501190",
   "metadata": {
    "ExecuteTime": {
     "end_time": "2024-10-28T08:41:47.263827566Z",
     "start_time": "2024-06-03T08:34:25.218489Z"
    }
   },
   "outputs": [],
   "source": [
    "plt.figure()\n",
    "for i in range(4,7):\n",
    "    name = env.reward_names[i]\n",
    "    plt.plot(rew_np[:,5,i], label=name)\n",
    "    plt.legend()"
   ]
  },
  {
   "cell_type": "code",
   "execution_count": null,
   "id": "913aa500",
   "metadata": {
    "ExecuteTime": {
     "end_time": "2024-10-28T08:41:47.264040121Z",
     "start_time": "2024-05-24T03:08:44.974771Z"
    }
   },
   "outputs": [],
   "source": [
    "title_list = ['leg_R', 'leg_L', 'arm_R', 'arm_L']\n",
    "end = 2000\n",
    "plt.figure()\n",
    "for i in range(env.cfg.gait.num_legs):\n",
    "    plt.plot(obs_np[:end, 0, -8+i*2], label=title_list[i])\n",
    "plt.legend()\n",
    "plt.title(\"gait signal\")\n",
    "\n",
    "plt.figure()\n",
    "for i in range(env.cfg.gait.num_legs):\n",
    "    plt.plot(gait_rwd_weight_np[:end, 0, i], label=title_list[i])\n",
    "plt.legend()\n",
    "plt.title(\"eFrc_rwd_weight\")\n",
    "\n",
    "plt.figure()\n",
    "for i in range(env.cfg.gait.num_legs):\n",
    "    plt.plot(gait_rwd_weight_np[:end, 0, i+4], label=title_list[i])\n",
    "plt.legend()\n",
    "plt.title(\"eVel_rwd_weight\")"
   ]
  },
  {
   "cell_type": "code",
   "execution_count": null,
   "id": "a08ea4ea",
   "metadata": {
    "ExecuteTime": {
     "end_time": "2024-10-28T08:41:47.264167061Z",
     "start_time": "2024-05-24T03:08:58.457285Z"
    }
   },
   "outputs": [],
   "source": [
    "plt.figure()\n",
    "for i in range(env.cfg.gait.num_legs):\n",
    "    plt.plot(cnct_force_np[:end, 0, i], label=title_list[i])\n",
    "plt.legend()\n",
    "plt.title(\"cnct_force\")"
   ]
  },
  {
   "cell_type": "code",
   "execution_count": null,
   "id": "9aebbca9",
   "metadata": {
    "ExecuteTime": {
     "end_time": "2024-10-28T08:41:47.264285235Z",
     "start_time": "2024-05-22T15:22:49.275240Z"
    }
   },
   "outputs": [],
   "source": [
    "print(env.gait_manager.get_swap_offset().astype(int))"
   ]
  },
  {
   "cell_type": "code",
   "execution_count": null,
   "id": "73734f31",
   "metadata": {
    "ExecuteTime": {
     "end_time": "2024-10-28T08:41:47.264394395Z",
     "start_time": "2024-06-18T03:29:25.686657Z"
    }
   },
   "outputs": [],
   "source": [
    "plt.figure()\n",
    "plt.plot(obs_np[:,0,6]/2,label=\"command\")\n",
    "plt.plot(vel_np[:,0,0],label=\"vel\")\n",
    "plt.legend()\n",
    "plt.show()"
   ]
  },
  {
   "cell_type": "code",
   "execution_count": null,
   "id": "8f0c9b01",
   "metadata": {
    "ExecuteTime": {
     "end_time": "2024-10-28T08:41:47.264496300Z",
     "start_time": "2024-06-12T05:16:10.811073Z"
    }
   },
   "outputs": [],
   "source": [
    "fig,axs = plt.subplots(4,4,figsize=(16,8),sharex=\"all\")\n",
    "for i in range(16):\n",
    "    ax = axs[i//4][i%4]\n",
    "    ax.plot(obs_np[:,i,6]/2,label=\"command\")\n",
    "    ax.plot(vel_np[:,i,0],label=\"vel\")\n",
    "#     ax.plot(est_np[:,i,0],alpha=0.5)\n",
    "axs[0][0].legend()\n",
    "plt.show()"
   ]
  },
  {
   "cell_type": "code",
   "execution_count": null,
   "id": "f025e956",
   "metadata": {
    "ExecuteTime": {
     "end_time": "2024-10-28T08:41:47.264590423Z",
     "start_time": "2024-06-12T05:16:05.051735Z"
    }
   },
   "outputs": [],
   "source": [
    "fig,axs = plt.subplots(3,4,figsize=(16,8),sharex=\"all\")\n",
    "for i in range(12):\n",
    "    ax = axs[i//4][i%4]\n",
    "    ax.plot(obs_np[:,0,9+i],alpha=0.5,label=\"obs\")\n",
    "    ax.plot(act_np[:,0,i],alpha=0.5,label=\"act\")\n",
    "axs[0][0].legend()\n",
    "plt.show()"
   ]
  },
  {
   "cell_type": "code",
   "execution_count": null,
   "id": "9b17d3f9",
   "metadata": {
    "ExecuteTime": {
     "end_time": "2024-10-28T08:41:47.264685445Z",
     "start_time": "2024-04-24T07:58:37.196013Z"
    }
   },
   "outputs": [],
   "source": [
    "fig,axs = plt.subplots(1,1,figsize=(16,8),sharex=\"all\")\n",
    "for i in range(1):\n",
    "    ax = axs #[i//8][i%8]\n",
    "#     ax.plot(obs_np[:,i,6]/2,alpha=0.5)\n",
    "    ax.plot(vel_np[:,i,0],alpha=0.5)\n",
    "    ax.plot(est_np[:,i,0],alpha=0.5)\n",
    "plt.show()\n",
    "\n",
    "fig,axs = plt.subplots(1,1,figsize=(16,8),sharex=\"all\")\n",
    "axs.plot(np.mean((vel_np[:,:,0]-est_np[:,:,0])**2,axis=0))\n",
    "plt.show()"
   ]
  },
  {
   "cell_type": "code",
   "execution_count": null,
   "id": "bf36a1c4",
   "metadata": {
    "ExecuteTime": {
     "end_time": "2024-10-28T08:41:47.264803125Z",
     "start_time": "2024-04-01T07:47:59.601Z"
    }
   },
   "outputs": [],
   "source": [
    "print(obs_np.shape)\n",
    "fig,axs = plt.subplots(2,1,figsize=(16,8),sharex=\"all\")\n",
    "for i in range(4):\n",
    "    ax = axs[0]\n",
    "    ax.plot(obs_np[:,1,45+i])\n",
    "for i in range(3):\n",
    "    ax = axs[1]\n",
    "    ax.plot(obs_np[:,1,6+i],label=f\"{i}\")\n",
    "ax.legend()\n",
    "plt.show()"
   ]
  },
  {
   "cell_type": "code",
   "execution_count": null,
   "id": "4276a19f",
   "metadata": {
    "ExecuteTime": {
     "end_time": "2024-10-28T08:41:47.264902517Z",
     "start_time": "2024-04-01T07:47:59.603Z"
    }
   },
   "outputs": [],
   "source": [
    "v_err = obs_np[...,6]/2 - vel_np[...,0]\n",
    "[np.sqrt(np.mean(v_err**2)), np.mean(v_err), np.max(v_err), np.min(v_err), np.percentile(v_err,75), np.percentile(v_err,25)]"
   ]
  },
  {
   "cell_type": "code",
   "execution_count": null,
   "id": "eda795e2",
   "metadata": {
    "ExecuteTime": {
     "end_time": "2024-10-28T08:41:47.264995288Z",
     "start_time": "2024-04-01T07:47:59.604Z"
    }
   },
   "outputs": [],
   "source": [
    "v_err.flatten().shape"
   ]
  },
  {
   "cell_type": "code",
   "execution_count": null,
   "id": "9294ca21",
   "metadata": {
    "ExecuteTime": {
     "end_time": "2024-10-28T08:41:47.265088445Z",
     "start_time": "2024-04-01T07:47:59.604Z"
    }
   },
   "outputs": [],
   "source": [
    "datasets = {\"obSet\":obs_np, \"acSet\":act_np, \"velSet\": vel_np, \"estSet\":est_np}\n",
    "for k,d in datasets.items():\n",
    "    if f\"{k}.csv\" in os.listdir(save_dir):\n",
    "        os.remove(f\"{save_dir}/{k}.npy\")\n",
    "    np.save(f\"{save_dir}/{k}.npy\", d)"
   ]
  },
  {
   "cell_type": "code",
   "execution_count": null,
   "id": "2d77d064",
   "metadata": {
    "ExecuteTime": {
     "end_time": "2024-10-28T08:41:47.265200695Z",
     "start_time": "2024-04-01T07:47:59.606Z"
    }
   },
   "outputs": [],
   "source": [
    "# obSet = np.loadtxt(f\"{save_dir}/obSet.csv\", delimiter=\",\")obSet = np.loadtxt(f\"{save_dir}/obSet.csv\", delimiter=\",\")\n",
    "# acSet = np.loadtxt(f\"{save_dir}/acSet.csv\", delimiter=\",\")"
   ]
  },
  {
   "cell_type": "code",
   "execution_count": null,
   "id": "646d5add",
   "metadata": {
    "ExecuteTime": {
     "end_time": "2024-10-28T08:41:47.265296307Z",
     "start_time": "2024-04-01T07:47:59.606Z"
    },
    "scrolled": true
   },
   "outputs": [],
   "source": [
    "# obs_test[:,:] = 0\n",
    "# for i in range(obSet.shape[0]):\n",
    "#     obs_test = torch.cat([obs_test[:,ep.ob_dims:], torch.from_numpy(obSet[i]).unsqueeze(0).float()],dim=-1)\n",
    "#     obs_gpu = copy.deepcopy(obs_test).to(ppo_runner.device)\n",
    "#     act_as_1 = ep(obs_test)\n",
    "\n",
    "#     z_sc = en_sc(obs_test)\n",
    "#     obz_sc = torch.cat([obs_test[:, -env_cfg.env.num_observations:],z_sc], dim=-1)\n",
    "#     action_sc = ac_sc(obz_sc)\n",
    "\n",
    "#     act_exp_as_1 = p1_sc(obs_test)\n",
    "\n",
    "#     ppo_runner.alg.actor_critic.to(ppo_runner.device)\n",
    "#     act_train = policy(obs_gpu[:, -env_cfg.env.num_observations:], obs_gpu)\n",
    "    \n",
    "#     z_ld = enc_reload(obs_test)\n",
    "#     obz_ld = torch.cat([obs_test[:, -env_cfg.env.num_observations:],z_ld], dim=-1)\n",
    "#     action_ld = bcb_reload(obz_ld)\n",
    "#     if i%100==99:\n",
    "#         print(\"\\n\",i)\n",
    "#         print(\"Nb Export Class: \", act_as_1)\n",
    "#         print(\"Nb jit Scripts:  \", action_sc)\n",
    "#         print(\"Gym Export Class:\", act_exp_as_1)\n",
    "#         print(\"Reloaded jit:    \", action_ld)\n",
    "#         print(\"Dataset action:  \", torch.from_numpy(acSet[i]))"
   ]
  },
  {
   "cell_type": "code",
   "execution_count": null,
   "id": "fd96e862",
   "metadata": {
    "ExecuteTime": {
     "end_time": "2024-10-28T08:41:47.265392772Z",
     "start_time": "2024-05-14T11:02:39.663798Z"
    }
   },
   "outputs": [],
   "source": [
    "a = torch.tensor([1,2,3,4])\n",
    "b = torch.tensor([5,6,7,8])\n",
    "c = np.zeros((2,8), dtype=float)\n",
    "c[0] = np.hstack((a.numpy(),b.numpy()))\n",
    "print(c)"
   ]
  },
  {
   "cell_type": "code",
   "execution_count": null,
   "id": "c40a6363",
   "metadata": {
    "ExecuteTime": {
     "end_time": "2024-10-28T08:41:47.265484230Z",
     "start_time": "2024-05-15T16:33:07.585617Z"
    }
   },
   "outputs": [],
   "source": [
    "horizontal_scale = 0.1  # [m]\n",
    "vertical_scale = 0.005\n",
    "\n",
    "tot_rows = 10\n",
    "tot_cols = 10\n",
    "height_field_raw = np.zeros((tot_rows , tot_cols), dtype=np.int16)\n",
    "\n",
    "width = 10\n",
    "length = 10\n",
    "slope = 0.3\n",
    "x = np.arange(0, width)\n",
    "y = np.arange(0, length)\n",
    "xx, yy = np.meshgrid(x, y, sparse=True)\n",
    "xx = xx.reshape(width, 1)\n",
    "yy = yy.reshape(length, 1)\n",
    "xx = xx.squeeze(1)\n",
    "print(xx)\n",
    "print(yy)\n",
    "max_height = int(slope * (horizontal_scale / vertical_scale) * width)\n",
    "height_field_raw[np.arange(width),:] += (max_height * xx / width).astype(height_field_raw.dtype)\n",
    "\n",
    "print(height_field_raw)"
   ]
  },
  {
   "cell_type": "code",
   "execution_count": null,
   "id": "6ca29e2c",
   "metadata": {
    "ExecuteTime": {
     "end_time": "2024-10-28T08:41:47.265575729Z",
     "start_time": "2024-05-24T09:37:52.725454Z"
    }
   },
   "outputs": [],
   "source": [
    "a = torch.tensor([0,0,1,1,0,1], dtype=torch.int)\n",
    "print(a)\n",
    "b = torch.randint(0, 10, (6,))\n",
    "print(b)\n",
    "id1 = (a == 0).nonzero()\n",
    "print(id1)\n",
    "print(b[id1])\n",
    "c = a.unsqueeze(1)\n",
    "print(c)"
   ]
  },
  {
   "cell_type": "code",
   "execution_count": null,
   "id": "e80f6f2f",
   "metadata": {
    "ExecuteTime": {
     "end_time": "2024-10-28T08:41:47.265666805Z",
     "start_time": "2024-05-24T09:38:44.928588Z"
    }
   },
   "outputs": [],
   "source": [
    "b = torch.randint(0, 20, (8,))\n",
    "print(b)\n",
    "a = torch.tensor([3,4,1,2,0,1], dtype=torch.int)\n",
    "print(b[a])"
   ]
  },
  {
   "cell_type": "code",
   "execution_count": null,
   "id": "adecda60",
   "metadata": {},
   "outputs": [],
   "source": []
  }
 ],
 "metadata": {
  "kernelspec": {
   "display_name": "Python 3 (ipykernel)",
   "language": "python",
   "name": "python3"
  },
  "language_info": {
   "codemirror_mode": {
    "name": "ipython",
    "version": 3
   },
   "file_extension": ".py",
   "mimetype": "text/x-python",
   "name": "python",
   "nbconvert_exporter": "python",
   "pygments_lexer": "ipython3",
   "version": "3.8.17"
  },
  "varInspector": {
   "cols": {
    "lenName": 16,
    "lenType": 16,
    "lenVar": 40
   },
   "kernels_config": {
    "python": {
     "delete_cmd_postfix": "",
     "delete_cmd_prefix": "del ",
     "library": "var_list.py",
     "varRefreshCmd": "print(var_dic_list())"
    },
    "r": {
     "delete_cmd_postfix": ") ",
     "delete_cmd_prefix": "rm(",
     "library": "var_list.r",
     "varRefreshCmd": "cat(var_dic_list()) "
    }
   },
   "position": {
    "height": "520.85px",
    "left": "1480px",
    "right": "20px",
    "top": "120px",
    "width": "350px"
   },
   "types_to_exclude": [
    "module",
    "function",
    "builtin_function_or_method",
    "instance",
    "_Feature"
   ],
   "window_display": false
  }
 },
 "nbformat": 4,
 "nbformat_minor": 5
}

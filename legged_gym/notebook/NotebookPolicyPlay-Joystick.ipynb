{
 "cells": [
  {
   "cell_type": "code",
   "execution_count": null,
   "id": "98eff42f",
   "metadata": {
    "ExecuteTime": {
     "end_time": "2024-08-02T02:39:36.574950Z",
     "start_time": "2024-08-02T02:39:33.899882Z"
    },
    "code_folding": []
   },
   "outputs": [],
   "source": [
    "# Import Modules\n",
    "from legged_gym import LEGGED_GYM_ROOT_DIR\n",
    "import os\n",
    "import sys\n",
    "import isaacgym\n",
    "from legged_gym.envs import *\n",
    "from legged_gym.utils import get_args, export_policy_as_jit, task_registry, Logger\n",
    "from legged_gym.utils.math import quat_apply_yaw, wrap_to_pi, quat_apply\n",
    "from isaacgym.torch_utils import quat_rotate\n",
    "import numpy as np\n",
    "import torch\n",
    "import pygame\n",
    "\n",
    "pygame.init()\n",
    "pygame.joystick.init()\n",
    "joystick = pygame.joystick.Joystick(0)\n",
    "joystick.init()\n",
    "\n",
    "print(f\"Joystick name: {joystick.get_name()}\")  # 打印手柄名称\n",
    "print(f\"Number of axes: {joystick.get_numaxes()}\")  # 打印轴的数量\n",
    "print(f\"Number of buttons: {joystick.get_numbuttons()}\")  # 打印按钮的数量"
   ]
  },
  {
   "cell_type": "code",
   "execution_count": null,
   "id": "9b292f4e",
   "metadata": {
    "ExecuteTime": {
     "end_time": "2024-08-02T02:39:36.580936Z",
     "start_time": "2024-08-02T02:39:36.576928Z"
    }
   },
   "outputs": [],
   "source": [
    "device = \"cuda:0\"\n",
    "sys.argv = sys.argv[0:1]+[\"--task=wk4_vis\"]\n",
    "# sys.argv = sys.argv[0:1]+[\"--task=wk4_leg\"]\n",
    "sys.argv.append(f\"--sim_device={device}\")\n",
    "sys.argv.append(f\"--rl_device={device}\")\n",
    "# sys.argv.append(\"--headless\")\n",
    "sys.argc = len(sys.argv)\n",
    "args = get_args()"
   ]
  },
  {
   "cell_type": "code",
   "execution_count": null,
   "id": "6570a6b4",
   "metadata": {
    "ExecuteTime": {
     "end_time": "2024-08-02T02:39:36.591186Z",
     "start_time": "2024-08-02T02:39:36.582459Z"
    }
   },
   "outputs": [],
   "source": [
    "env_cfg, train_cfg = task_registry.get_cfgs(name=args.task)\n",
    "env_cfg.env.num_envs = min(env_cfg.env.num_envs, 4)\n",
    "# env_cfg.env.num_history_frames = 10\n",
    "\n",
    "env_cfg.terrain.terrain_proportions = [0.0, 0.0, 0.1, 0.6, 0.2, 0., 0., 0.]\n",
    "env_cfg.terrain.heightfield_range = [0.0, 0.0]\n",
    "# env_cfg.terrain.terrain_proportions = [0.]\n",
    "train_cfg.runner.resume = True\n",
    "train_cfg.runner.load_run = \"240801_184306_Proper_MH_VAE\"\n",
    "train_cfg.runner.checkpoints = -1\n",
    "env_cfg.terrain.curriculum = False\n",
    "env_cfg.terrain.mesh_type = 'plane'\n",
    "env_cfg.terrain.num_rows = 8\n",
    "env_cfg.terrain.num_cols = 8 \n",
    "env_cfg.noise.add_noise = False\n",
    "env_cfg.domain_rand.randomize_friction = False\n",
    "env_cfg.domain_rand.randomize_base_mass = False\n",
    "env_cfg.domain_rand.randomize_motor_strength = False\n",
    "env_cfg.domain_rand.randomize_Kp_factor = False\n",
    "env_cfg.domain_rand.randomize_Kd_factor = False\n",
    "env_cfg.domain_rand.push_robots = False\n",
    "env_cfg.domain_rand.randomize_lag_timesteps = False\n",
    "env_cfg.domain_rand.randomize_init_state = False"
   ]
  },
  {
   "cell_type": "code",
   "execution_count": null,
   "id": "5fb63c50",
   "metadata": {
    "ExecuteTime": {
     "end_time": "2024-08-02T02:39:43.006680Z",
     "start_time": "2024-08-02T02:39:36.594548Z"
    },
    "code_folding": []
   },
   "outputs": [],
   "source": [
    "env, _ = task_registry.make_env(name=args.task, args=args, env_cfg=env_cfg)\n",
    "for i in range(3):\n",
    "    _ = env.reset()"
   ]
  },
  {
   "cell_type": "code",
   "execution_count": null,
   "id": "928ce276",
   "metadata": {
    "ExecuteTime": {
     "end_time": "2024-08-02T02:39:43.192695Z",
     "start_time": "2024-08-02T02:39:43.009477Z"
    },
    "scrolled": true
   },
   "outputs": [],
   "source": [
    "ppo_runner, train_cfg = task_registry.make_alg_runner(env=env, name=args.task, args=args, train_cfg=train_cfg)\n",
    "policy = ppo_runner.alg.actor_critic"
   ]
  },
  {
   "cell_type": "code",
   "execution_count": null,
   "id": "c212fdb4",
   "metadata": {
    "ExecuteTime": {
     "end_time": "2024-08-02T02:44:43.728031Z",
     "start_time": "2024-08-02T02:44:43.624608Z"
    }
   },
   "outputs": [],
   "source": [
    "_ = env.reset()\n",
    "obs_tuple = env.get_observations()\n",
    "obs, obs_history, depth_image, est_nominal= obs_tuple\n",
    "heightmap = est_nominal[\"heightmap\"]"
   ]
  },
  {
   "cell_type": "code",
   "execution_count": null,
   "id": "b4921734",
   "metadata": {
    "ExecuteTime": {
     "end_time": "2024-08-02T03:01:25.470791Z",
     "start_time": "2024-08-02T02:58:28.652293Z"
    },
    "scrolled": true
   },
   "outputs": [],
   "source": [
    "for i in range(1*int(env.max_episode_length)):\n",
    "    \n",
    "    env.cmd_w[:,0] = 0.0\n",
    "    env.cmd_w[:,1] = 0.0\n",
    "    env.commands[:,3] = 0\n",
    "    \n",
    "    events = pygame.event.get()\n",
    "    joystick_axes = [joystick.get_axis(i) for i in range(joystick.get_numaxes())]\n",
    "    joystick_buttons = [joystick.get_button(i) for i in range(joystick.get_numbuttons())]\n",
    "#     print(f'Axes: {joystick_axes}, Buttons: {joystick_buttons}')\n",
    "    \n",
    "    cmd_js = torch.zeros((1,3), device=env.device, requires_grad=False)\n",
    "    cmd_js[0,0] = -joystick_axes[1] * 0.8\n",
    "    cmd_js[0,1] = -joystick_axes[0] * 0.2\n",
    "    env.cmd_w[0,:] = quat_rotate(env.base_quat[0:1], cmd_js)\n",
    "    forward = quat_apply(env.base_quat, env.forward_vec)\n",
    "    heading = torch.atan2(forward[:, 1], forward[:, 0])\n",
    "    env.commands[0,3] = heading[0] - joystick_axes[2]*2.5\n",
    "    \n",
    "    \n",
    "#     actions = policy(obs.detach(), obs_history.detach(), depth_image.detach())\n",
    "    actions = policy(obs.detach(), obs_history.detach(), heightmap=heightmap)\n",
    "    obs_tuple, rewards, dones, infos = env.step(actions)\n",
    "    obs, privileged_obs, obs_history, depth_image, est_nominal, obs_future = obs_tuple\n",
    "#     obs, privileged_obs, obs_history, est_nominal, obs_future = obs_tuple\n",
    "    \n",
    "    heightmap = est_nominal[\"heightmap\"]\n",
    "#     depth_image = torch.zeros((env.num_envs, 2, 60, 106), device=env.device)\n",
    "#     print(obs[:,6:9], env.commands, \"\\n\")\n",
    "#     print(joystick_axes[2],env.commands[0,3].item(),heading[0].item(), obs[0,8].item())\n",
    "ppo_runner.alg.actor_critic.reset(dones)"
   ]
  },
  {
   "cell_type": "code",
   "execution_count": 20,
   "id": "cfa9874d",
   "metadata": {
    "ExecuteTime": {
     "end_time": "2024-08-02T03:47:00.149873Z",
     "start_time": "2024-08-02T03:47:00.125912Z"
    }
   },
   "outputs": [
    {
     "name": "stdout",
     "output_type": "stream",
     "text": [
      "Using matplotlib backend: <object object at 0x7fbb38922c20>\n",
      "Using matplotlib backend: TkAgg\n"
     ]
    }
   ],
   "source": [
    "import numpy as np\n",
    "import matplotlib.pyplot as plt\n",
    "from mpl_toolkits.mplot3d import Axes3D\n",
    "%matplotlib auto\n",
    "%matplotlib auto"
   ]
  },
  {
   "cell_type": "code",
   "execution_count": null,
   "id": "c4084339",
   "metadata": {
    "ExecuteTime": {
     "end_time": "2024-07-18T08:16:37.530880Z",
     "start_time": "2024-07-18T08:16:37.116585Z"
    }
   },
   "outputs": [],
   "source": [
    "for robot_to_check in range(12,16):\n",
    "    fig, axs = plt.subplots(1,2, figsize=(14,6))\n",
    "    img = axs[0].imshow(depth_image[robot_to_check,0].cpu(), cmap=\"gray\", vmin=-0.5, vmax=0.5)\n",
    "    axs[1].imshow(depth_image[robot_to_check,1].cpu(), cmap=\"gray\", vmin=-0.5, vmax=0.5)\n",
    "    fig.colorbar(img)\n",
    "    axs[1].set_title(robot_to_check)\n",
    "    fig.tight_layout()\n",
    "    plt.show()"
   ]
  },
  {
   "cell_type": "code",
   "execution_count": 22,
   "id": "ece95fa5",
   "metadata": {
    "ExecuteTime": {
     "end_time": "2024-08-02T03:48:20.897795Z",
     "start_time": "2024-08-02T03:48:20.891697Z"
    }
   },
   "outputs": [],
   "source": [
    "idx = 2\n",
    "return_tuple = policy.ce_net(obs_history.detach(), heightmap.detach())"
   ]
  },
  {
   "cell_type": "code",
   "execution_count": 24,
   "id": "eb4ccaaa",
   "metadata": {
    "ExecuteTime": {
     "end_time": "2024-08-02T03:48:51.726458Z",
     "start_time": "2024-08-02T03:48:51.477386Z"
    }
   },
   "outputs": [
    {
     "name": "stdout",
     "output_type": "stream",
     "text": [
      "0 (-0.5491507470607757, -0.5154244482517243)\n",
      "1 (-0.7737729758024215, -0.7346065431833267)\n",
      "2 (-0.8024385541677475, -0.7626209288835526)\n",
      "3 (-0.38667471408843995, -0.357023286819458)\n"
     ]
    }
   ],
   "source": [
    "fig = plt.figure()\n",
    "xx, yy = np.meshgrid(np.arange(18), np.arange(11))\n",
    "\n",
    "for idx in range(4):\n",
    "    hm_nom = est_nominal['heightmap'][idx].cpu().detach().numpy().reshape(18,11).T\n",
    "    hm_est = return_tuple[1][1][idx].cpu().detach().numpy().reshape(18,11).T\n",
    "    ax_max = fig.add_subplot(221+idx, projection='3d')\n",
    "\n",
    "    ax_max.scatter(xx, yy, hm_nom, label = \"nom\")\n",
    "    ax_max.scatter(xx, yy, hm_est, label = \"est\")\n",
    "    ax_max.set_title(f\"heightmap_{idx}\")\n",
    "    zlim = ax_max.get_zlim()\n",
    "    if zlim[1]-zlim[0] < 0.5:\n",
    "        print(idx, zlim)\n",
    "        ax_max.set_zlim([zlim[0]-0.5, zlim[1]+0.5])\n",
    "ax_max.legend()\n",
    "fig.tight_layout()\n",
    "plt.show()"
   ]
  },
  {
   "cell_type": "code",
   "execution_count": null,
   "id": "b0f02cc9",
   "metadata": {
    "ExecuteTime": {
     "end_time": "2024-07-09T07:04:45.674931Z",
     "start_time": "2024-07-09T07:04:32.522444Z"
    }
   },
   "outputs": [],
   "source": [
    "for i in range(10*int(env.max_episode_length)):\n",
    "    actions = policy(obs.detach(), obs_history.detach(), depth_image.detach())\n",
    "    obs_tuple, rewards, dones, infos = env.step(actions)\n",
    "    env.cmd_w[:,:3] = 0\n",
    "    obs, privileged_obs, obs_history, depth_image, est_nominal, obs_future = obs_tuple"
   ]
  },
  {
   "cell_type": "code",
   "execution_count": null,
   "id": "d50d3302",
   "metadata": {
    "ExecuteTime": {
     "end_time": "2024-07-22T12:23:25.576272Z",
     "start_time": "2024-07-22T12:23:25.315060Z"
    }
   },
   "outputs": [],
   "source": [
    "x = np.arange(0,10000)\n",
    "y = 0.998**x\n",
    "z = np.exp(-x*1e-3)\n",
    "plt.plot(x,y,label=\"idx\")\n",
    "plt.plot(x,z,label=\"exp\")\n",
    "plt.grid(\"on\")\n",
    "plt.legend()\n",
    "plt.show()\n",
    "\n",
    "print(np.sum(y>1e-2))\n",
    "print(np.sum(y>1e-3))\n",
    "print(np.sum(y>1e-4))"
   ]
  },
  {
   "cell_type": "code",
   "execution_count": null,
   "id": "2404ec90",
   "metadata": {
    "ExecuteTime": {
     "end_time": "2024-07-22T12:18:34.622308Z",
     "start_time": "2024-07-22T12:18:34.505739Z"
    }
   },
   "outputs": [],
   "source": [
    "\n",
    "plt.plot(x,y-z,label=\"exp\")\n",
    "plt.show()"
   ]
  },
  {
   "cell_type": "code",
   "execution_count": null,
   "id": "0dadd664",
   "metadata": {},
   "outputs": [],
   "source": []
  }
 ],
 "metadata": {
  "kernelspec": {
   "display_name": "Python 3 (ipykernel)",
   "language": "python",
   "name": "python3"
  },
  "language_info": {
   "codemirror_mode": {
    "name": "ipython",
    "version": 3
   },
   "file_extension": ".py",
   "mimetype": "text/x-python",
   "name": "python",
   "nbconvert_exporter": "python",
   "pygments_lexer": "ipython3",
   "version": "3.8.17"
  },
  "varInspector": {
   "cols": {
    "lenName": 16,
    "lenType": 16,
    "lenVar": 40
   },
   "kernels_config": {
    "python": {
     "delete_cmd_postfix": "",
     "delete_cmd_prefix": "del ",
     "library": "var_list.py",
     "varRefreshCmd": "print(var_dic_list())"
    },
    "r": {
     "delete_cmd_postfix": ") ",
     "delete_cmd_prefix": "rm(",
     "library": "var_list.r",
     "varRefreshCmd": "cat(var_dic_list()) "
    }
   },
   "position": {
    "height": "520.85px",
    "left": "1480px",
    "right": "20px",
    "top": "120px",
    "width": "350px"
   },
   "types_to_exclude": [
    "module",
    "function",
    "builtin_function_or_method",
    "instance",
    "_Feature"
   ],
   "window_display": false
  }
 },
 "nbformat": 4,
 "nbformat_minor": 5
}
